{
 "cells": [
  {
   "cell_type": "code",
   "execution_count": null,
   "metadata": {},
   "outputs": [],
   "source": [
    "import matplotlib.pyplot as plt"
   ]
  },
  {
   "cell_type": "code",
   "execution_count": null,
   "metadata": {},
   "outputs": [],
   "source": [
    "f = open('./checkpoints/20240129/loss.txt','r')\n",
    "data = f.readlines()\n",
    "f.close()\n",
    "data = [float(d[:-1]) for d in data]\n",
    "last = data[0]\n",
    "loss = data\n",
    "weight=0.9998\n",
    "for i in range(len(data)):\n",
    "    smoothed_val = last * weight + (1 - weight) * data[i]\n",
    "    loss[i] = smoothed_val\n",
    "    last = smoothed_val\n",
    "\n",
    "fig = plt.figure(figsize=(18,4))\n",
    "plt.plot(loss)\n",
    "plt.show()"
   ]
  }
 ],
 "metadata": {
  "language_info": {
   "name": "python"
  }
 },
 "nbformat": 4,
 "nbformat_minor": 2
}
